{
  "nbformat": 4,
  "nbformat_minor": 0,
  "metadata": {
    "colab": {
      "name": "Untitled8.ipynb",
      "provenance": []
    },
    "kernelspec": {
      "name": "python3",
      "display_name": "Python 3"
    },
    "language_info": {
      "name": "python"
    }
  },
  "cells": [
    {
      "cell_type": "code",
      "execution_count": null,
      "metadata": {
        "colab": {
          "base_uri": "https://localhost:8080/"
        },
        "id": "TxMWsU5MWBo0",
        "outputId": "34d979a1-c9a8-43c1-d355-e1a3f1c7952b"
      },
      "outputs": [
        {
          "output_type": "stream",
          "name": "stdout",
          "text": [
            "Guess the randomly generated number from 1 to 100\n",
            "Enter the guessed number: 50\n",
            "-> Your number is greater than the random number\n",
            "Enter the guessed number: 20\n",
            "-> Your number is greater than the random number\n",
            "Enter the guessed number: 10\n",
            "-> Your number is greater than the random number\n",
            "Enter the guessed number: 4\n",
            "-> Your number is less than the random number\n",
            "Enter the guessed number: 6\n",
            "-> Your number is less than the random number\n",
            "-> Phew! You lost the game. You are out of chances\n"
          ]
        }
      ],
      "source": [
        "import random\n",
        "\n",
        "\n",
        "class NumberGuessingGame:\n",
        "\n",
        "    def __init__(self):\n",
        "        ## define the range\n",
        "        self.LOWER = 1\n",
        "        self.HIGHER = 100\n",
        "        self.MAX_CHANCES = 5\n",
        "\n",
        "    ## method to generate the random number\n",
        "    def get_random_number(self):\n",
        "        return random.randint(self.LOWER, self.HIGHER)\n",
        "\n",
        "    ## game start method\n",
        "    def start(self):\n",
        "        ## generating the random number\n",
        "        random_number = self.get_random_number()\n",
        "\n",
        "        print(\n",
        "            f\"Guess the randomly generated number from {self.LOWER} to {self.HIGHER}\")\n",
        "\n",
        "        ## heart of the game\n",
        "        chances = 0\n",
        "        while True:\n",
        "            user_number = int(input(\"Enter the guessed number: \"))\n",
        "            if user_number == random_number:\n",
        "                print(\n",
        "                    f\"-> Hurray! You got it in {chances + 1} step{'s' if chances > 1 else ''}!\")\n",
        "                break\n",
        "            elif user_number < random_number:\n",
        "                print(\"-> Your number is less than the random number\")\n",
        "            else:\n",
        "                print(\"-> Your number is greater than the random number\")\n",
        "            chances += 1\n",
        "            if chances == self.MAX_CHANCES:\n",
        "                print(\"-> Phew! You lost the game. You are out of chances\")\n",
        "\n",
        "## instantiating and starting the game\n",
        "numberGuessingGame = NumberGuessingGame()\n",
        "numberGuessingGame.start()"
      ]
    }
  ]
}
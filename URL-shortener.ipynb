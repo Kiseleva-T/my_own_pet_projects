{
  "nbformat": 4,
  "nbformat_minor": 0,
  "metadata": {
    "colab": {
      "name": "Untitled11.ipynb",
      "provenance": []
    },
    "kernelspec": {
      "name": "python3",
      "display_name": "Python 3"
    },
    "language_info": {
      "name": "python"
    }
  },
  "cells": [
    {
      "cell_type": "code",
      "execution_count": null,
      "metadata": {
        "id": "oOoIYu9qLVOp"
      },
      "outputs": [],
      "source": [
        "pip install pyshorteners"
      ]
    },
    {
      "cell_type": "code",
      "source": [
        "import pyshorteners"
      ],
      "metadata": {
        "id": "dxradYlSLaja"
      },
      "execution_count": 2,
      "outputs": []
    },
    {
      "cell_type": "code",
      "source": [
        "long_url = input(\"Enter the URL to shorten: \")\n",
        "type_tiny = pyshorteners.Shortener()\n",
        "short_url = type_tiny.tinyurl.short(long_url)\n",
        " \n",
        "print(\"The Shortened URL is: \" + short_url)"
      ],
      "metadata": {
        "id": "ul5gYWp5LdbR"
      },
      "execution_count": null,
      "outputs": []
    }
  ]
}
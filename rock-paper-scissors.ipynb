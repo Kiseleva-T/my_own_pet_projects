{
  "nbformat": 4,
  "nbformat_minor": 0,
  "metadata": {
    "colab": {
      "name": "Untitled5.ipynb",
      "provenance": []
    },
    "kernelspec": {
      "name": "python3",
      "display_name": "Python 3"
    },
    "language_info": {
      "name": "python"
    }
  },
  "cells": [
    {
      "cell_type": "code",
      "execution_count": 1,
      "metadata": {
        "id": "Yq08-7aVDjeO"
      },
      "outputs": [],
      "source": [
        "from random import randint"
      ]
    },
    {
      "cell_type": "code",
      "source": [
        "#create a list of play options\n",
        "t=[\"Rock\", \"Scissors\", \"Paper\"]\n",
        "#assign a random play to the computer\n",
        "computer = t[randint(0,2)]\n",
        "\n",
        "#set player to False\n",
        "player = False\n",
        "\n",
        "while player == False:\n",
        "  player = input(\"Rock, Scissors, Paper?\")\n",
        "  if player == computer:\n",
        "    print('Tie!')\n",
        "  elif player == \"Rock\":\n",
        "    if computer == \"Paper\":\n",
        "      print(\"You lose!\", computer, \"covers\", player)\n",
        "    else:\n",
        "      print(\"You win!\", player, \"smashes\", computer) \n",
        "  elif player == \"Paper\":\n",
        "    if computer == \"Scissors\":\n",
        "      print(\"You lose!\", computer, \"cuts\", player)\n",
        "    else:\n",
        "      print(\"You win!\", player, \"covers\", computer)\n",
        "  elif player == \"Scissors\":\n",
        "    if computer == \"Rock\":\n",
        "      print(\"You lose!\", computer, \"smashes\", player)\n",
        "    else:\n",
        "      print(\"You win!\", player, \"cuts\", computer)\n",
        "  else:\n",
        "    print(\"Choose something else\")\n",
        "  player = False \n",
        "  computer = t[randint(0,2)]"
      ],
      "metadata": {
        "colab": {
          "base_uri": "https://localhost:8080/"
        },
        "id": "sJhoJBRJDscA",
        "outputId": "da8ef733-8069-460b-fe88-d7cf73519e37"
      },
      "execution_count": null,
      "outputs": [
        {
          "output_type": "stream",
          "name": "stdout",
          "text": [
            "Rock, Scissors, Paper?Paper\n",
            "You win! Paper covers Rock\n",
            "Rock, Scissors, Paper?Rock\n",
            "You lose! Paper covers Rock\n"
          ]
        }
      ]
    }
  ]
}
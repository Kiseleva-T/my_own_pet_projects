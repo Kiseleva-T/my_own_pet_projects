{
 "cells": [
  {
   "cell_type": "code",
   "execution_count": 1,
   "id": "fc1a85c8",
   "metadata": {
    "execution": {
     "iopub.execute_input": "2022-08-26T11:29:58.549899Z",
     "iopub.status.busy": "2022-08-26T11:29:58.549364Z",
     "iopub.status.idle": "2022-08-26T11:30:00.138119Z",
     "shell.execute_reply": "2022-08-26T11:30:00.136603Z"
    },
    "papermill": {
     "duration": 1.603974,
     "end_time": "2022-08-26T11:30:00.141666",
     "exception": false,
     "start_time": "2022-08-26T11:29:58.537692",
     "status": "completed"
    },
    "tags": []
   },
   "outputs": [],
   "source": [
    "# Data manipulation\n",
    "import pandas as pd\n",
    "import numpy as np\n",
    "# Manipulation with dates\n",
    "from datetime import date\n",
    "from dateutil.relativedelta import relativedelta\n",
    "# Machine learning\n",
    "import xgboost as xgb\n",
    "from sklearn import metrics\n",
    "from sklearn.model_selection import train_test_split, GridSearchCV\n",
    "from sklearn.neighbors import KNeighborsClassifier\n",
    "from sklearn.ensemble import RandomForestClassifier"
   ]
  },
  {
   "cell_type": "code",
   "execution_count": 2,
   "id": "f900d607",
   "metadata": {
    "execution": {
     "iopub.execute_input": "2022-08-26T11:30:00.157693Z",
     "iopub.status.busy": "2022-08-26T11:30:00.157298Z",
     "iopub.status.idle": "2022-08-26T11:30:00.168514Z",
     "shell.execute_reply": "2022-08-26T11:30:00.167183Z"
    },
    "papermill": {
     "duration": 0.022147,
     "end_time": "2022-08-26T11:30:00.170929",
     "exception": false,
     "start_time": "2022-08-26T11:30:00.148782",
     "status": "completed"
    },
    "tags": []
   },
   "outputs": [],
   "source": [
    "data = pd.DataFrame({'Date': ['2022-08-01','2022-06-29',\n",
    "                     '2022-06-12','2022-05-15','2022-04-18',\n",
    "                     '2022-03-18','2022-02-19','2022-01-21',\n",
    "                     '2021-12-21','2021-11-22','2021-10-17',\n",
    "                     '2021-09-20','2021-08-25','2021-07-29',\n",
    "                     '2021-06-30','2021-06-03','2021-05-08',\n",
    "                     '2021-04-03','2021-03-03','2021-02-03',\n",
    "                     '2021-01-05','2020-12-07','2020-11-09', \n",
    "                     '2020-10-10','2020-09-13','2020-08-17',\n",
    "                     '2020-07-20','2020-06-21','2020-05-25',\n",
    "                     '2020-04-27','2020-03-30','2020-02-29',\n",
    "                     '2020-01-29','2019-12-23','2019-11-21',\n",
    "                     '2019-10-24','2019-09-27','2019-08-29']})"
   ]
  },
  {
   "cell_type": "code",
   "execution_count": 3,
   "id": "60d08246",
   "metadata": {
    "execution": {
     "iopub.execute_input": "2022-08-26T11:30:00.187514Z",
     "iopub.status.busy": "2022-08-26T11:30:00.186724Z",
     "iopub.status.idle": "2022-08-26T11:30:00.202363Z",
     "shell.execute_reply": "2022-08-26T11:30:00.200840Z"
    },
    "papermill": {
     "duration": 0.027702,
     "end_time": "2022-08-26T11:30:00.205568",
     "exception": false,
     "start_time": "2022-08-26T11:30:00.177866",
     "status": "completed"
    },
    "tags": []
   },
   "outputs": [],
   "source": [
    "data['Date'] = pd.to_datetime(data['Date'])\n",
    "data['Release'] = 1"
   ]
  },
  {
   "cell_type": "code",
   "execution_count": 4,
   "id": "a2886a96",
   "metadata": {
    "execution": {
     "iopub.execute_input": "2022-08-26T11:30:00.222261Z",
     "iopub.status.busy": "2022-08-26T11:30:00.221406Z",
     "iopub.status.idle": "2022-08-26T11:30:00.236566Z",
     "shell.execute_reply": "2022-08-26T11:30:00.235668Z"
    },
    "papermill": {
     "duration": 0.026122,
     "end_time": "2022-08-26T11:30:00.239236",
     "exception": false,
     "start_time": "2022-08-26T11:30:00.213114",
     "status": "completed"
    },
    "tags": []
   },
   "outputs": [],
   "source": [
    "r = pd.date_range(start=data['Date'].min(), end=data['Date'].max())\n",
    "data = data.set_index('Date').reindex(r).fillna(0.0).rename_axis('Date').reset_index()"
   ]
  },
  {
   "cell_type": "code",
   "execution_count": 5,
   "id": "830b7680",
   "metadata": {
    "execution": {
     "iopub.execute_input": "2022-08-26T11:30:00.255902Z",
     "iopub.status.busy": "2022-08-26T11:30:00.255185Z",
     "iopub.status.idle": "2022-08-26T11:30:00.269021Z",
     "shell.execute_reply": "2022-08-26T11:30:00.268206Z"
    },
    "papermill": {
     "duration": 0.025753,
     "end_time": "2022-08-26T11:30:00.271923",
     "exception": false,
     "start_time": "2022-08-26T11:30:00.246170",
     "status": "completed"
    },
    "tags": []
   },
   "outputs": [],
   "source": [
    "data['Month'] = data['Date'].dt.month\n",
    "data['Day'] = data['Date'].dt.day\n",
    "data['Workday_N'] = np.busday_count(\n",
    "                    data['Date'].values.astype('datetime64[M]'),\n",
    "                    data['Date'].values.astype('datetime64[D]'))\n",
    "data['Week_day'] = data['Date'].dt.weekday\n",
    "data['Week_of_month'] = (data['Date'].dt.day \n",
    "                         - data['Date'].dt.weekday - 2) // 7 + 2\n",
    "data['Weekday_order'] = (data['Date'].dt.day + 6) // 7\n",
    "data = data.set_index('Date')"
   ]
  },
  {
   "cell_type": "code",
   "execution_count": 6,
   "id": "64ca0edf",
   "metadata": {
    "execution": {
     "iopub.execute_input": "2022-08-26T11:30:00.287847Z",
     "iopub.status.busy": "2022-08-26T11:30:00.287145Z",
     "iopub.status.idle": "2022-08-26T11:30:00.294418Z",
     "shell.execute_reply": "2022-08-26T11:30:00.293604Z"
    },
    "papermill": {
     "duration": 0.018229,
     "end_time": "2022-08-26T11:30:00.297063",
     "exception": false,
     "start_time": "2022-08-26T11:30:00.278834",
     "status": "completed"
    },
    "tags": []
   },
   "outputs": [],
   "source": [
    "x_train, x_test, y_train, y_test = train_test_split(data.drop(['Release'], axis=1), data['Release'],\n",
    "                 test_size=0.3, random_state=1, shuffle=False)"
   ]
  },
  {
   "cell_type": "code",
   "execution_count": 7,
   "id": "b76e8fba",
   "metadata": {
    "execution": {
     "iopub.execute_input": "2022-08-26T11:30:00.313219Z",
     "iopub.status.busy": "2022-08-26T11:30:00.312505Z",
     "iopub.status.idle": "2022-08-26T11:31:20.364586Z",
     "shell.execute_reply": "2022-08-26T11:31:20.363635Z"
    },
    "papermill": {
     "duration": 80.073194,
     "end_time": "2022-08-26T11:31:20.377278",
     "exception": false,
     "start_time": "2022-08-26T11:30:00.304084",
     "status": "completed"
    },
    "tags": []
   },
   "outputs": [
    {
     "name": "stdout",
     "output_type": "stream",
     "text": [
      "Fitting 4 folds for each of 54 candidates, totalling 216 fits\n",
      "Best parameters found:  {'alpha': 1, 'learning_rate': 0.1, 'max_depth': 2, 'n_estimators': 100}\n",
      "Lowest RMSE found:  0.1875476520514971\n"
     ]
    }
   ],
   "source": [
    "DM_train = xgb.DMatrix(data=x_train, label=y_train)\n",
    "grid_param = {\"learning_rate\": [0.01, 0.1],\n",
    "              \"n_estimators\": [100, 150, 200],\n",
    "              \"alpha\": [0.1, 0.5, 1],\n",
    "              \"max_depth\": [2, 3, 4]}\n",
    "model = xgb.XGBRegressor()\n",
    "grid_mse = GridSearchCV(estimator=model, param_grid=grid_param,\n",
    "                       scoring=\"neg_mean_squared_error\",\n",
    "                       cv=4, verbose=1)\n",
    "grid_mse.fit(x_train, y_train)\n",
    "print(\"Best parameters found: \", grid_mse.best_params_)\n",
    "print(\"Lowest RMSE found: \", np.sqrt(np.abs(grid_mse.best_score_)))"
   ]
  },
  {
   "cell_type": "code",
   "execution_count": 8,
   "id": "294faed9",
   "metadata": {
    "execution": {
     "iopub.execute_input": "2022-08-26T11:31:20.393472Z",
     "iopub.status.busy": "2022-08-26T11:31:20.393047Z",
     "iopub.status.idle": "2022-08-26T11:31:20.640567Z",
     "shell.execute_reply": "2022-08-26T11:31:20.639514Z"
    },
    "papermill": {
     "duration": 0.258636,
     "end_time": "2022-08-26T11:31:20.643270",
     "exception": false,
     "start_time": "2022-08-26T11:31:20.384634",
     "status": "completed"
    },
    "tags": []
   },
   "outputs": [],
   "source": [
    "xgb_model = xgb.XGBClassifier(objective ='reg:squarederror', \n",
    "                            colsample_bytree = 1, \n",
    "                            learning_rate = 0.1,\n",
    "                            max_depth = 2, \n",
    "                            alpha = 1, \n",
    "                            n_estimators = 100)\n",
    "xgb_model.fit(x_train, y_train)\n",
    "xgb_prediction = xgb_model.predict(x_test)"
   ]
  },
  {
   "cell_type": "code",
   "execution_count": 9,
   "id": "21ba3949",
   "metadata": {
    "execution": {
     "iopub.execute_input": "2022-08-26T11:31:20.660506Z",
     "iopub.status.busy": "2022-08-26T11:31:20.660055Z",
     "iopub.status.idle": "2022-08-26T11:31:20.666727Z",
     "shell.execute_reply": "2022-08-26T11:31:20.665750Z"
    },
    "papermill": {
     "duration": 0.018166,
     "end_time": "2022-08-26T11:31:20.669446",
     "exception": false,
     "start_time": "2022-08-26T11:31:20.651280",
     "status": "completed"
    },
    "tags": []
   },
   "outputs": [
    {
     "name": "stdout",
     "output_type": "stream",
     "text": [
      "[0 0 0 0 0 0 0 0 0 0 0 0 0 0 0 0 0 0 0 0 0 0 0 0 0 0 0 0 0 0 0 0 0 0 0 0 0\n",
      " 0 0 0 0 0 0 0 0 0 0 0 0 0 0 0 0 0 0 0 0 0 0 0 0 0 0 0 0 0 0 0 0 0 0 0 0 0\n",
      " 0 0 0 0 0 0 0 0 0 0 0 0 0 0 0 0 0 0 0 0 0 0 0 0 0 0 0 0 0 0 0 0 0 0 0 0 0\n",
      " 0 0 0 0 0 0 0 0 0 0 0 0 0 0 0 0 0 0 0 0 0 0 0 0 0 0 0 0 0 0 0 0 0 0 0 0 0\n",
      " 0 0 0 0 0 0 0 0 0 0 0 0 0 0 0 0 0 0 0 0 0 0 0 0 0 0 0 0 0 0 0 0 0 0 0 0 0\n",
      " 0 0 0 0 0 0 0 0 0 0 0 0 0 0 0 0 0 0 0 0 0 0 0 0 0 0 0 0 0 0 0 0 0 0 0 0 0\n",
      " 0 0 0 0 0 0 0 0 0 0 0 0 0 0 0 0 0 0 0 0 0 0 0 0 0 0 0 0 0 0 0 0 0 0 0 0 0\n",
      " 0 0 0 0 0 0 0 0 0 0 0 0 0 0 0 0 0 0 0 0 0 0 0 0 0 0 0 0 0 0 0 0 0 0 0 0 0\n",
      " 0 0 0 0 0 0 0 0 0 0 0 0 0 0 0 0 0 0 0 0 0 0 0 0 0]\n"
     ]
    }
   ],
   "source": [
    "print(xgb_prediction)"
   ]
  },
  {
   "cell_type": "code",
   "execution_count": 10,
   "id": "e8c406c0",
   "metadata": {
    "execution": {
     "iopub.execute_input": "2022-08-26T11:31:20.686310Z",
     "iopub.status.busy": "2022-08-26T11:31:20.685381Z",
     "iopub.status.idle": "2022-08-26T11:31:20.699751Z",
     "shell.execute_reply": "2022-08-26T11:31:20.698622Z"
    },
    "papermill": {
     "duration": 0.025996,
     "end_time": "2022-08-26T11:31:20.702508",
     "exception": false,
     "start_time": "2022-08-26T11:31:20.676512",
     "status": "completed"
    },
    "tags": []
   },
   "outputs": [],
   "source": [
    "knn = KNeighborsClassifier(n_neighbors = 3, algorithm = 'auto',     \n",
    "                           weights = 'distance') \n",
    "knn.fit(x_train, y_train)  \n",
    "knn_prediction = knn.predict(x_test)"
   ]
  },
  {
   "cell_type": "code",
   "execution_count": 11,
   "id": "94250712",
   "metadata": {
    "execution": {
     "iopub.execute_input": "2022-08-26T11:31:20.717925Z",
     "iopub.status.busy": "2022-08-26T11:31:20.717405Z",
     "iopub.status.idle": "2022-08-26T11:31:20.728153Z",
     "shell.execute_reply": "2022-08-26T11:31:20.725514Z"
    },
    "papermill": {
     "duration": 0.021466,
     "end_time": "2022-08-26T11:31:20.730683",
     "exception": false,
     "start_time": "2022-08-26T11:31:20.709217",
     "status": "completed"
    },
    "tags": []
   },
   "outputs": [
    {
     "name": "stdout",
     "output_type": "stream",
     "text": [
      "[0. 0. 0. 0. 0. 0. 0. 0. 0. 0. 0. 0. 0. 0. 0. 0. 0. 0. 0. 0. 0. 0. 0. 0.\n",
      " 0. 0. 0. 0. 0. 0. 0. 0. 0. 0. 0. 0. 0. 0. 0. 0. 0. 0. 0. 0. 0. 0. 0. 0.\n",
      " 0. 0. 0. 0. 0. 0. 0. 0. 0. 0. 0. 0. 0. 0. 0. 0. 0. 0. 0. 0. 0. 0. 0. 0.\n",
      " 0. 0. 0. 0. 0. 0. 0. 0. 0. 0. 0. 0. 0. 0. 0. 0. 0. 0. 0. 0. 0. 0. 0. 0.\n",
      " 0. 0. 0. 0. 0. 0. 0. 0. 0. 0. 0. 0. 0. 0. 0. 0. 0. 0. 0. 0. 0. 0. 0. 0.\n",
      " 0. 0. 0. 0. 0. 0. 0. 0. 0. 0. 0. 0. 0. 0. 0. 0. 0. 0. 0. 0. 0. 1. 0. 0.\n",
      " 0. 0. 0. 0. 0. 0. 0. 0. 0. 0. 0. 0. 0. 0. 0. 0. 0. 0. 0. 0. 0. 0. 0. 0.\n",
      " 0. 1. 0. 0. 0. 0. 0. 0. 0. 0. 0. 0. 0. 0. 0. 0. 0. 0. 0. 0. 0. 0. 0. 0.\n",
      " 0. 0. 0. 0. 0. 0. 0. 0. 0. 0. 0. 0. 0. 0. 0. 0. 0. 0. 0. 0. 0. 0. 0. 0.\n",
      " 0. 0. 0. 0. 0. 0. 0. 0. 0. 0. 0. 0. 0. 0. 0. 0. 0. 0. 0. 0. 0. 0. 0. 0.\n",
      " 0. 0. 0. 0. 0. 0. 0. 0. 0. 0. 0. 0. 0. 0. 0. 0. 0. 0. 0. 0. 0. 0. 0. 0.\n",
      " 0. 0. 0. 0. 0. 0. 0. 0. 0. 0. 0. 0. 0. 0. 0. 0. 0. 0. 0. 0. 0. 0. 0. 0.\n",
      " 0. 0. 0. 0. 0. 0. 0. 0. 0. 0. 0. 0. 0. 0. 0. 0. 0. 0. 0. 0. 0. 0. 0. 0.\n",
      " 0. 0. 0. 0. 0. 1. 0. 0. 0.]\n"
     ]
    }
   ],
   "source": [
    "print(knn_prediction)"
   ]
  },
  {
   "cell_type": "code",
   "execution_count": 12,
   "id": "2cc8420a",
   "metadata": {
    "execution": {
     "iopub.execute_input": "2022-08-26T11:31:20.747569Z",
     "iopub.status.busy": "2022-08-26T11:31:20.746700Z",
     "iopub.status.idle": "2022-08-26T11:31:20.854853Z",
     "shell.execute_reply": "2022-08-26T11:31:20.853523Z"
    },
    "papermill": {
     "duration": 0.119556,
     "end_time": "2022-08-26T11:31:20.857872",
     "exception": false,
     "start_time": "2022-08-26T11:31:20.738316",
     "status": "completed"
    },
    "tags": []
   },
   "outputs": [],
   "source": [
    "random_forest = RandomForestClassifier(n_estimators=50,\n",
    "                                       max_depth=10, random_state=1)\n",
    "random_forest.fit(x_train, y_train)\n",
    "rf_prediction = random_forest.predict(x_test)"
   ]
  },
  {
   "cell_type": "code",
   "execution_count": 13,
   "id": "7f310d4a",
   "metadata": {
    "execution": {
     "iopub.execute_input": "2022-08-26T11:31:20.874673Z",
     "iopub.status.busy": "2022-08-26T11:31:20.873552Z",
     "iopub.status.idle": "2022-08-26T11:31:20.891171Z",
     "shell.execute_reply": "2022-08-26T11:31:20.888802Z"
    },
    "papermill": {
     "duration": 0.029511,
     "end_time": "2022-08-26T11:31:20.894539",
     "exception": false,
     "start_time": "2022-08-26T11:31:20.865028",
     "status": "completed"
    },
    "tags": []
   },
   "outputs": [
    {
     "name": "stdout",
     "output_type": "stream",
     "text": [
      "\n",
      "Confusion matrix for XGBoost model:\n",
      "TN:309    FN:12\n",
      "FP:0    TP:0\n",
      "\n",
      "Confusion matrix for KNN model:\n",
      "TN:306    FN:12\n",
      "FP:3    TP:0\n",
      "\n",
      "Confusion matrix for Random Forest model:\n",
      "TN:306    FN:12\n",
      "FP:3    TP:0\n"
     ]
    }
   ],
   "source": [
    "xgb_matrix = metrics.confusion_matrix(xgb_prediction, y_test)\n",
    "print(f\"\"\"\n",
    "Confusion matrix for XGBoost model:\n",
    "TN:{xgb_matrix[0][0]}    FN:{xgb_matrix[0][1]}\n",
    "FP:{xgb_matrix[1][0]}    TP:{xgb_matrix[1][1]}\"\"\")\n",
    "knn_matrix = metrics.confusion_matrix(knn_prediction, y_test)\n",
    "print(f\"\"\"\n",
    "Confusion matrix for KNN model:\n",
    "TN:{knn_matrix[0][0]}    FN:{knn_matrix[0][1]}\n",
    "FP:{knn_matrix[1][0]}    TP:{knn_matrix[1][1]}\"\"\")\n",
    "rf_matrix = metrics.confusion_matrix(rf_prediction, y_test)\n",
    "print(f\"\"\"\n",
    "Confusion matrix for Random Forest model:\n",
    "TN:{rf_matrix[0][0]}    FN:{rf_matrix[0][1]}\n",
    "FP:{rf_matrix[1][0]}    TP:{rf_matrix[1][1]}\"\"\")"
   ]
  },
  {
   "cell_type": "code",
   "execution_count": 14,
   "id": "d5db2808",
   "metadata": {
    "execution": {
     "iopub.execute_input": "2022-08-26T11:31:20.912197Z",
     "iopub.status.busy": "2022-08-26T11:31:20.911049Z",
     "iopub.status.idle": "2022-08-26T11:31:20.936389Z",
     "shell.execute_reply": "2022-08-26T11:31:20.935180Z"
    },
    "papermill": {
     "duration": 0.037517,
     "end_time": "2022-08-26T11:31:20.939409",
     "exception": false,
     "start_time": "2022-08-26T11:31:20.901892",
     "status": "completed"
    },
    "tags": []
   },
   "outputs": [],
   "source": [
    "x_predict = pd.DataFrame(pd.date_range(date.today(), (date.today() +\n",
    "            relativedelta(years=1)),freq='d'), columns=['Date'])\n",
    "x_predict['Day'] = x_predict['Date'].dt.day\n",
    "x_predict['Workday_N'] = np.busday_count(\n",
    "                x_predict['Date'].values.astype('datetime64[M]'),\n",
    "                x_predict['Date'].values.astype('datetime64[D]'))\n",
    "x_predict['Week_day'] = x_predict['Date'].dt.weekday\n",
    "x_predict['Week_of_month'] = (x_predict['Date'].dt.day - \n",
    "                              x_predict['Date'].dt.weekday - 2)//7+2\n",
    "x_predict['Weekday_order'] = (x_predict['Date'].dt.day + 6) // 7\n",
    "x_predict['Month'] = x_predict['Date'].dt.month\n",
    "x_predict = x_predict.set_index('Date')\n",
    "prediction = xgb_model.predict(x_predict)"
   ]
  },
  {
   "cell_type": "code",
   "execution_count": 15,
   "id": "3a29ffe1",
   "metadata": {
    "execution": {
     "iopub.execute_input": "2022-08-26T11:31:20.957232Z",
     "iopub.status.busy": "2022-08-26T11:31:20.956814Z",
     "iopub.status.idle": "2022-08-26T11:31:20.963984Z",
     "shell.execute_reply": "2022-08-26T11:31:20.962921Z"
    },
    "papermill": {
     "duration": 0.019991,
     "end_time": "2022-08-26T11:31:20.967622",
     "exception": false,
     "start_time": "2022-08-26T11:31:20.947631",
     "status": "completed"
    },
    "tags": []
   },
   "outputs": [
    {
     "name": "stdout",
     "output_type": "stream",
     "text": [
      "[0 0 0 0 0 0 0 0 0 0 0 0 0 0 0 0 0 0 0 0 0 0 0 0 0 0 0 0 0 0 0 0 0 0 0 0 0\n",
      " 0 0 0 0 0 0 0 0 0 0 0 0 0 0 0 0 0 0 0 0 0 0 0 0 0 0 0 0 0 0 0 0 0 0 0 0 0\n",
      " 0 0 0 0 0 0 0 0 0 0 0 0 0 0 0 0 0 0 0 0 0 0 0 0 0 0 0 0 0 0 0 0 0 0 0 0 0\n",
      " 0 0 0 0 0 0 0 0 0 0 0 0 0 0 0 0 0 0 0 0 0 0 0 0 0 0 0 0 0 0 0 0 0 0 0 0 0\n",
      " 0 0 0 0 0 0 0 0 0 0 0 0 0 0 0 0 0 0 0 0 0 0 0 0 0 0 0 0 0 0 0 0 0 0 0 0 0\n",
      " 0 0 0 0 0 0 0 0 0 0 0 0 0 0 0 0 0 0 0 0 0 0 0 0 0 0 0 0 0 0 0 0 0 0 0 0 0\n",
      " 0 0 0 0 0 0 0 0 0 0 0 0 0 0 0 0 0 0 0 0 0 0 0 0 0 0 0 0 0 0 0 0 0 0 0 0 0\n",
      " 0 0 0 0 0 0 0 0 0 0 0 0 0 0 0 0 0 0 0 0 0 0 0 0 0 0 0 0 0 0 0 0 0 0 0 0 0\n",
      " 0 0 0 0 0 0 0 0 0 0 0 0 0 0 0 0 0 0 0 0 0 0 0 0 0 0 0 0 0 0 0 0 0 0 0 0 0\n",
      " 0 0 0 0 0 0 0 0 0 0 0 0 0 0 0 0 0 0 0 0 0 0 0 0 0 0 0 0 0 0 0 0 0]\n"
     ]
    }
   ],
   "source": [
    "print(prediction)"
   ]
  },
  {
   "cell_type": "code",
   "execution_count": 16,
   "id": "b1406daa",
   "metadata": {
    "execution": {
     "iopub.execute_input": "2022-08-26T11:31:20.985120Z",
     "iopub.status.busy": "2022-08-26T11:31:20.984276Z",
     "iopub.status.idle": "2022-08-26T11:31:20.997811Z",
     "shell.execute_reply": "2022-08-26T11:31:20.996128Z"
    },
    "papermill": {
     "duration": 0.025294,
     "end_time": "2022-08-26T11:31:21.000592",
     "exception": false,
     "start_time": "2022-08-26T11:31:20.975298",
     "status": "completed"
    },
    "tags": []
   },
   "outputs": [
    {
     "name": "stdout",
     "output_type": "stream",
     "text": [
      "            Day  Workday_N  Week_day  Week_of_month  Weekday_order  Month\n",
      "Date                                                                     \n",
      "2022-08-26   26         19         4              4              4      8\n",
      "2022-08-27   27         20         5              4              4      8\n",
      "2022-08-28   28         20         6              4              4      8\n",
      "2022-08-29   29         20         0              5              5      8\n",
      "2022-08-30   30         21         1              5              5      8\n",
      "...         ...        ...       ...            ...            ...    ...\n",
      "2023-08-22   22         15         1              4              4      8\n",
      "2023-08-23   23         16         2              4              4      8\n",
      "2023-08-24   24         17         3              4              4      8\n",
      "2023-08-25   25         18         4              4              4      8\n",
      "2023-08-26   26         19         5              4              4      8\n",
      "\n",
      "[366 rows x 6 columns]\n"
     ]
    }
   ],
   "source": [
    "print(x_predict)"
   ]
  },
  {
   "cell_type": "code",
   "execution_count": 17,
   "id": "1ef430d6",
   "metadata": {
    "execution": {
     "iopub.execute_input": "2022-08-26T11:31:21.017985Z",
     "iopub.status.busy": "2022-08-26T11:31:21.017055Z",
     "iopub.status.idle": "2022-08-26T11:31:21.029325Z",
     "shell.execute_reply": "2022-08-26T11:31:21.028239Z"
    },
    "papermill": {
     "duration": 0.0237,
     "end_time": "2022-08-26T11:31:21.031689",
     "exception": false,
     "start_time": "2022-08-26T11:31:21.007989",
     "status": "completed"
    },
    "tags": []
   },
   "outputs": [],
   "source": [
    "x_predict['preds'] = prediction"
   ]
  },
  {
   "cell_type": "code",
   "execution_count": 18,
   "id": "dc937699",
   "metadata": {
    "execution": {
     "iopub.execute_input": "2022-08-26T11:31:21.048302Z",
     "iopub.status.busy": "2022-08-26T11:31:21.047478Z",
     "iopub.status.idle": "2022-08-26T11:31:21.069146Z",
     "shell.execute_reply": "2022-08-26T11:31:21.067718Z"
    },
    "papermill": {
     "duration": 0.033555,
     "end_time": "2022-08-26T11:31:21.072260",
     "exception": false,
     "start_time": "2022-08-26T11:31:21.038705",
     "status": "completed"
    },
    "tags": []
   },
   "outputs": [
    {
     "data": {
      "text/html": [
       "<div>\n",
       "<style scoped>\n",
       "    .dataframe tbody tr th:only-of-type {\n",
       "        vertical-align: middle;\n",
       "    }\n",
       "\n",
       "    .dataframe tbody tr th {\n",
       "        vertical-align: top;\n",
       "    }\n",
       "\n",
       "    .dataframe thead th {\n",
       "        text-align: right;\n",
       "    }\n",
       "</style>\n",
       "<table border=\"1\" class=\"dataframe\">\n",
       "  <thead>\n",
       "    <tr style=\"text-align: right;\">\n",
       "      <th></th>\n",
       "      <th>Day</th>\n",
       "      <th>Workday_N</th>\n",
       "      <th>Week_day</th>\n",
       "      <th>Week_of_month</th>\n",
       "      <th>Weekday_order</th>\n",
       "      <th>Month</th>\n",
       "      <th>preds</th>\n",
       "    </tr>\n",
       "    <tr>\n",
       "      <th>Date</th>\n",
       "      <th></th>\n",
       "      <th></th>\n",
       "      <th></th>\n",
       "      <th></th>\n",
       "      <th></th>\n",
       "      <th></th>\n",
       "      <th></th>\n",
       "    </tr>\n",
       "  </thead>\n",
       "  <tbody>\n",
       "    <tr>\n",
       "      <th>2022-08-26</th>\n",
       "      <td>26</td>\n",
       "      <td>19</td>\n",
       "      <td>4</td>\n",
       "      <td>4</td>\n",
       "      <td>4</td>\n",
       "      <td>8</td>\n",
       "      <td>0</td>\n",
       "    </tr>\n",
       "    <tr>\n",
       "      <th>2022-08-27</th>\n",
       "      <td>27</td>\n",
       "      <td>20</td>\n",
       "      <td>5</td>\n",
       "      <td>4</td>\n",
       "      <td>4</td>\n",
       "      <td>8</td>\n",
       "      <td>0</td>\n",
       "    </tr>\n",
       "    <tr>\n",
       "      <th>2022-08-28</th>\n",
       "      <td>28</td>\n",
       "      <td>20</td>\n",
       "      <td>6</td>\n",
       "      <td>4</td>\n",
       "      <td>4</td>\n",
       "      <td>8</td>\n",
       "      <td>0</td>\n",
       "    </tr>\n",
       "    <tr>\n",
       "      <th>2022-08-29</th>\n",
       "      <td>29</td>\n",
       "      <td>20</td>\n",
       "      <td>0</td>\n",
       "      <td>5</td>\n",
       "      <td>5</td>\n",
       "      <td>8</td>\n",
       "      <td>0</td>\n",
       "    </tr>\n",
       "    <tr>\n",
       "      <th>2022-08-30</th>\n",
       "      <td>30</td>\n",
       "      <td>21</td>\n",
       "      <td>1</td>\n",
       "      <td>5</td>\n",
       "      <td>5</td>\n",
       "      <td>8</td>\n",
       "      <td>0</td>\n",
       "    </tr>\n",
       "    <tr>\n",
       "      <th>...</th>\n",
       "      <td>...</td>\n",
       "      <td>...</td>\n",
       "      <td>...</td>\n",
       "      <td>...</td>\n",
       "      <td>...</td>\n",
       "      <td>...</td>\n",
       "      <td>...</td>\n",
       "    </tr>\n",
       "    <tr>\n",
       "      <th>2023-08-22</th>\n",
       "      <td>22</td>\n",
       "      <td>15</td>\n",
       "      <td>1</td>\n",
       "      <td>4</td>\n",
       "      <td>4</td>\n",
       "      <td>8</td>\n",
       "      <td>0</td>\n",
       "    </tr>\n",
       "    <tr>\n",
       "      <th>2023-08-23</th>\n",
       "      <td>23</td>\n",
       "      <td>16</td>\n",
       "      <td>2</td>\n",
       "      <td>4</td>\n",
       "      <td>4</td>\n",
       "      <td>8</td>\n",
       "      <td>0</td>\n",
       "    </tr>\n",
       "    <tr>\n",
       "      <th>2023-08-24</th>\n",
       "      <td>24</td>\n",
       "      <td>17</td>\n",
       "      <td>3</td>\n",
       "      <td>4</td>\n",
       "      <td>4</td>\n",
       "      <td>8</td>\n",
       "      <td>0</td>\n",
       "    </tr>\n",
       "    <tr>\n",
       "      <th>2023-08-25</th>\n",
       "      <td>25</td>\n",
       "      <td>18</td>\n",
       "      <td>4</td>\n",
       "      <td>4</td>\n",
       "      <td>4</td>\n",
       "      <td>8</td>\n",
       "      <td>0</td>\n",
       "    </tr>\n",
       "    <tr>\n",
       "      <th>2023-08-26</th>\n",
       "      <td>26</td>\n",
       "      <td>19</td>\n",
       "      <td>5</td>\n",
       "      <td>4</td>\n",
       "      <td>4</td>\n",
       "      <td>8</td>\n",
       "      <td>0</td>\n",
       "    </tr>\n",
       "  </tbody>\n",
       "</table>\n",
       "<p>366 rows × 7 columns</p>\n",
       "</div>"
      ],
      "text/plain": [
       "            Day  Workday_N  Week_day  Week_of_month  Weekday_order  Month  \\\n",
       "Date                                                                        \n",
       "2022-08-26   26         19         4              4              4      8   \n",
       "2022-08-27   27         20         5              4              4      8   \n",
       "2022-08-28   28         20         6              4              4      8   \n",
       "2022-08-29   29         20         0              5              5      8   \n",
       "2022-08-30   30         21         1              5              5      8   \n",
       "...         ...        ...       ...            ...            ...    ...   \n",
       "2023-08-22   22         15         1              4              4      8   \n",
       "2023-08-23   23         16         2              4              4      8   \n",
       "2023-08-24   24         17         3              4              4      8   \n",
       "2023-08-25   25         18         4              4              4      8   \n",
       "2023-08-26   26         19         5              4              4      8   \n",
       "\n",
       "            preds  \n",
       "Date               \n",
       "2022-08-26      0  \n",
       "2022-08-27      0  \n",
       "2022-08-28      0  \n",
       "2022-08-29      0  \n",
       "2022-08-30      0  \n",
       "...           ...  \n",
       "2023-08-22      0  \n",
       "2023-08-23      0  \n",
       "2023-08-24      0  \n",
       "2023-08-25      0  \n",
       "2023-08-26      0  \n",
       "\n",
       "[366 rows x 7 columns]"
      ]
     },
     "metadata": {},
     "output_type": "display_data"
    }
   ],
   "source": [
    "display(x_predict)"
   ]
  },
  {
   "cell_type": "code",
   "execution_count": 19,
   "id": "b526d4fd",
   "metadata": {
    "execution": {
     "iopub.execute_input": "2022-08-26T11:31:21.091358Z",
     "iopub.status.busy": "2022-08-26T11:31:21.089615Z",
     "iopub.status.idle": "2022-08-26T11:31:21.105306Z",
     "shell.execute_reply": "2022-08-26T11:31:21.103821Z"
    },
    "papermill": {
     "duration": 0.028263,
     "end_time": "2022-08-26T11:31:21.108416",
     "exception": false,
     "start_time": "2022-08-26T11:31:21.080153",
     "status": "completed"
    },
    "tags": []
   },
   "outputs": [],
   "source": [
    "x_predict.to_csv('preds', sep='\\t')"
   ]
  },
  {
   "cell_type": "code",
   "execution_count": 20,
   "id": "4f4fbfaf",
   "metadata": {
    "execution": {
     "iopub.execute_input": "2022-08-26T11:31:21.125083Z",
     "iopub.status.busy": "2022-08-26T11:31:21.124646Z",
     "iopub.status.idle": "2022-08-26T11:31:21.150940Z",
     "shell.execute_reply": "2022-08-26T11:31:21.149477Z"
    },
    "papermill": {
     "duration": 0.038072,
     "end_time": "2022-08-26T11:31:21.153957",
     "exception": false,
     "start_time": "2022-08-26T11:31:21.115885",
     "status": "completed"
    },
    "tags": []
   },
   "outputs": [
    {
     "name": "stderr",
     "output_type": "stream",
     "text": [
      "/opt/conda/lib/python3.7/site-packages/sklearn/base.py:493: FutureWarning: The feature names should match those that were passed during fit. Starting version 1.2, an error will be raised.\n",
      "Feature names must be in the same order as they were in fit.\n",
      "\n",
      "  warnings.warn(message, FutureWarning)\n"
     ]
    }
   ],
   "source": [
    "knn_predict = pd.DataFrame(pd.date_range(date.today(), (date.today() +\n",
    "            relativedelta(years=1)),freq='d'), columns=['Date'])\n",
    "knn_predict['Day'] = knn_predict['Date'].dt.day\n",
    "knn_predict['Workday_N'] = np.busday_count(\n",
    "                knn_predict['Date'].values.astype('datetime64[M]'),\n",
    "                knn_predict['Date'].values.astype('datetime64[D]'))\n",
    "knn_predict['Week_day'] = knn_predict['Date'].dt.weekday\n",
    "knn_predict['Week_of_month'] = (knn_predict['Date'].dt.day - \n",
    "                              knn_predict['Date'].dt.weekday - 2)//7+2\n",
    "knn_predict['Weekday_order'] = (knn_predict['Date'].dt.day + 6) // 7\n",
    "knn_predict['Month'] = knn_predict['Date'].dt.month\n",
    "knn_predict = knn_predict.set_index('Date')\n",
    "prediction = knn.predict(knn_predict)"
   ]
  },
  {
   "cell_type": "code",
   "execution_count": 21,
   "id": "0b59ec8c",
   "metadata": {
    "execution": {
     "iopub.execute_input": "2022-08-26T11:31:21.171243Z",
     "iopub.status.busy": "2022-08-26T11:31:21.170821Z",
     "iopub.status.idle": "2022-08-26T11:31:21.191095Z",
     "shell.execute_reply": "2022-08-26T11:31:21.189649Z"
    },
    "papermill": {
     "duration": 0.032265,
     "end_time": "2022-08-26T11:31:21.193947",
     "exception": false,
     "start_time": "2022-08-26T11:31:21.161682",
     "status": "completed"
    },
    "tags": []
   },
   "outputs": [
    {
     "data": {
      "text/html": [
       "<div>\n",
       "<style scoped>\n",
       "    .dataframe tbody tr th:only-of-type {\n",
       "        vertical-align: middle;\n",
       "    }\n",
       "\n",
       "    .dataframe tbody tr th {\n",
       "        vertical-align: top;\n",
       "    }\n",
       "\n",
       "    .dataframe thead th {\n",
       "        text-align: right;\n",
       "    }\n",
       "</style>\n",
       "<table border=\"1\" class=\"dataframe\">\n",
       "  <thead>\n",
       "    <tr style=\"text-align: right;\">\n",
       "      <th></th>\n",
       "      <th>Day</th>\n",
       "      <th>Workday_N</th>\n",
       "      <th>Week_day</th>\n",
       "      <th>Week_of_month</th>\n",
       "      <th>Weekday_order</th>\n",
       "      <th>Month</th>\n",
       "      <th>preds</th>\n",
       "    </tr>\n",
       "    <tr>\n",
       "      <th>Date</th>\n",
       "      <th></th>\n",
       "      <th></th>\n",
       "      <th></th>\n",
       "      <th></th>\n",
       "      <th></th>\n",
       "      <th></th>\n",
       "      <th></th>\n",
       "    </tr>\n",
       "  </thead>\n",
       "  <tbody>\n",
       "    <tr>\n",
       "      <th>2022-08-26</th>\n",
       "      <td>26</td>\n",
       "      <td>19</td>\n",
       "      <td>4</td>\n",
       "      <td>4</td>\n",
       "      <td>4</td>\n",
       "      <td>8</td>\n",
       "      <td>0.0</td>\n",
       "    </tr>\n",
       "    <tr>\n",
       "      <th>2022-08-27</th>\n",
       "      <td>27</td>\n",
       "      <td>20</td>\n",
       "      <td>5</td>\n",
       "      <td>4</td>\n",
       "      <td>4</td>\n",
       "      <td>8</td>\n",
       "      <td>0.0</td>\n",
       "    </tr>\n",
       "    <tr>\n",
       "      <th>2022-08-28</th>\n",
       "      <td>28</td>\n",
       "      <td>20</td>\n",
       "      <td>6</td>\n",
       "      <td>4</td>\n",
       "      <td>4</td>\n",
       "      <td>8</td>\n",
       "      <td>0.0</td>\n",
       "    </tr>\n",
       "    <tr>\n",
       "      <th>2022-08-29</th>\n",
       "      <td>29</td>\n",
       "      <td>20</td>\n",
       "      <td>0</td>\n",
       "      <td>5</td>\n",
       "      <td>5</td>\n",
       "      <td>8</td>\n",
       "      <td>0.0</td>\n",
       "    </tr>\n",
       "    <tr>\n",
       "      <th>2022-08-30</th>\n",
       "      <td>30</td>\n",
       "      <td>21</td>\n",
       "      <td>1</td>\n",
       "      <td>5</td>\n",
       "      <td>5</td>\n",
       "      <td>8</td>\n",
       "      <td>0.0</td>\n",
       "    </tr>\n",
       "    <tr>\n",
       "      <th>...</th>\n",
       "      <td>...</td>\n",
       "      <td>...</td>\n",
       "      <td>...</td>\n",
       "      <td>...</td>\n",
       "      <td>...</td>\n",
       "      <td>...</td>\n",
       "      <td>...</td>\n",
       "    </tr>\n",
       "    <tr>\n",
       "      <th>2023-08-22</th>\n",
       "      <td>22</td>\n",
       "      <td>15</td>\n",
       "      <td>1</td>\n",
       "      <td>4</td>\n",
       "      <td>4</td>\n",
       "      <td>8</td>\n",
       "      <td>0.0</td>\n",
       "    </tr>\n",
       "    <tr>\n",
       "      <th>2023-08-23</th>\n",
       "      <td>23</td>\n",
       "      <td>16</td>\n",
       "      <td>2</td>\n",
       "      <td>4</td>\n",
       "      <td>4</td>\n",
       "      <td>8</td>\n",
       "      <td>0.0</td>\n",
       "    </tr>\n",
       "    <tr>\n",
       "      <th>2023-08-24</th>\n",
       "      <td>24</td>\n",
       "      <td>17</td>\n",
       "      <td>3</td>\n",
       "      <td>4</td>\n",
       "      <td>4</td>\n",
       "      <td>8</td>\n",
       "      <td>0.0</td>\n",
       "    </tr>\n",
       "    <tr>\n",
       "      <th>2023-08-25</th>\n",
       "      <td>25</td>\n",
       "      <td>18</td>\n",
       "      <td>4</td>\n",
       "      <td>4</td>\n",
       "      <td>4</td>\n",
       "      <td>8</td>\n",
       "      <td>0.0</td>\n",
       "    </tr>\n",
       "    <tr>\n",
       "      <th>2023-08-26</th>\n",
       "      <td>26</td>\n",
       "      <td>19</td>\n",
       "      <td>5</td>\n",
       "      <td>4</td>\n",
       "      <td>4</td>\n",
       "      <td>8</td>\n",
       "      <td>0.0</td>\n",
       "    </tr>\n",
       "  </tbody>\n",
       "</table>\n",
       "<p>366 rows × 7 columns</p>\n",
       "</div>"
      ],
      "text/plain": [
       "            Day  Workday_N  Week_day  Week_of_month  Weekday_order  Month  \\\n",
       "Date                                                                        \n",
       "2022-08-26   26         19         4              4              4      8   \n",
       "2022-08-27   27         20         5              4              4      8   \n",
       "2022-08-28   28         20         6              4              4      8   \n",
       "2022-08-29   29         20         0              5              5      8   \n",
       "2022-08-30   30         21         1              5              5      8   \n",
       "...         ...        ...       ...            ...            ...    ...   \n",
       "2023-08-22   22         15         1              4              4      8   \n",
       "2023-08-23   23         16         2              4              4      8   \n",
       "2023-08-24   24         17         3              4              4      8   \n",
       "2023-08-25   25         18         4              4              4      8   \n",
       "2023-08-26   26         19         5              4              4      8   \n",
       "\n",
       "            preds  \n",
       "Date               \n",
       "2022-08-26    0.0  \n",
       "2022-08-27    0.0  \n",
       "2022-08-28    0.0  \n",
       "2022-08-29    0.0  \n",
       "2022-08-30    0.0  \n",
       "...           ...  \n",
       "2023-08-22    0.0  \n",
       "2023-08-23    0.0  \n",
       "2023-08-24    0.0  \n",
       "2023-08-25    0.0  \n",
       "2023-08-26    0.0  \n",
       "\n",
       "[366 rows x 7 columns]"
      ]
     },
     "metadata": {},
     "output_type": "display_data"
    }
   ],
   "source": [
    "knn_predict['preds'] = prediction\n",
    "display(knn_predict)"
   ]
  },
  {
   "cell_type": "code",
   "execution_count": 22,
   "id": "17c4ac31",
   "metadata": {
    "execution": {
     "iopub.execute_input": "2022-08-26T11:31:21.210930Z",
     "iopub.status.busy": "2022-08-26T11:31:21.210549Z",
     "iopub.status.idle": "2022-08-26T11:31:21.220699Z",
     "shell.execute_reply": "2022-08-26T11:31:21.219303Z"
    },
    "papermill": {
     "duration": 0.021169,
     "end_time": "2022-08-26T11:31:21.222931",
     "exception": false,
     "start_time": "2022-08-26T11:31:21.201762",
     "status": "completed"
    },
    "tags": []
   },
   "outputs": [],
   "source": [
    "knn_predict.to_csv('knn-preds', sep='\\t')"
   ]
  },
  {
   "cell_type": "code",
   "execution_count": 23,
   "id": "e69e966f",
   "metadata": {
    "execution": {
     "iopub.execute_input": "2022-08-26T11:31:21.240651Z",
     "iopub.status.busy": "2022-08-26T11:31:21.240160Z",
     "iopub.status.idle": "2022-08-26T11:31:21.271542Z",
     "shell.execute_reply": "2022-08-26T11:31:21.269796Z"
    },
    "papermill": {
     "duration": 0.044151,
     "end_time": "2022-08-26T11:31:21.274735",
     "exception": false,
     "start_time": "2022-08-26T11:31:21.230584",
     "status": "completed"
    },
    "tags": []
   },
   "outputs": [
    {
     "name": "stderr",
     "output_type": "stream",
     "text": [
      "/opt/conda/lib/python3.7/site-packages/sklearn/base.py:493: FutureWarning: The feature names should match those that were passed during fit. Starting version 1.2, an error will be raised.\n",
      "Feature names must be in the same order as they were in fit.\n",
      "\n",
      "  warnings.warn(message, FutureWarning)\n"
     ]
    }
   ],
   "source": [
    "rf_predict = pd.DataFrame(pd.date_range(date.today(), (date.today() +\n",
    "            relativedelta(years=1)),freq='d'), columns=['Date'])\n",
    "rf_predict['Day'] = rf_predict['Date'].dt.day\n",
    "rf_predict['Workday_N'] = np.busday_count(\n",
    "                rf_predict['Date'].values.astype('datetime64[M]'),\n",
    "                rf_predict['Date'].values.astype('datetime64[D]'))\n",
    "rf_predict['Week_day'] = rf_predict['Date'].dt.weekday\n",
    "rf_predict['Week_of_month'] = (rf_predict['Date'].dt.day - \n",
    "                              rf_predict['Date'].dt.weekday - 2)//7+2\n",
    "rf_predict['Weekday_order'] = (rf_predict['Date'].dt.day + 6) // 7\n",
    "rf_predict['Month'] = rf_predict['Date'].dt.month\n",
    "rf_predict = rf_predict.set_index('Date')\n",
    "prediction = random_forest.predict(rf_predict)"
   ]
  },
  {
   "cell_type": "code",
   "execution_count": 24,
   "id": "80918dca",
   "metadata": {
    "execution": {
     "iopub.execute_input": "2022-08-26T11:31:21.292236Z",
     "iopub.status.busy": "2022-08-26T11:31:21.291718Z",
     "iopub.status.idle": "2022-08-26T11:31:21.314185Z",
     "shell.execute_reply": "2022-08-26T11:31:21.313053Z"
    },
    "papermill": {
     "duration": 0.034219,
     "end_time": "2022-08-26T11:31:21.316686",
     "exception": false,
     "start_time": "2022-08-26T11:31:21.282467",
     "status": "completed"
    },
    "tags": []
   },
   "outputs": [
    {
     "data": {
      "text/html": [
       "<div>\n",
       "<style scoped>\n",
       "    .dataframe tbody tr th:only-of-type {\n",
       "        vertical-align: middle;\n",
       "    }\n",
       "\n",
       "    .dataframe tbody tr th {\n",
       "        vertical-align: top;\n",
       "    }\n",
       "\n",
       "    .dataframe thead th {\n",
       "        text-align: right;\n",
       "    }\n",
       "</style>\n",
       "<table border=\"1\" class=\"dataframe\">\n",
       "  <thead>\n",
       "    <tr style=\"text-align: right;\">\n",
       "      <th></th>\n",
       "      <th>Day</th>\n",
       "      <th>Workday_N</th>\n",
       "      <th>Week_day</th>\n",
       "      <th>Week_of_month</th>\n",
       "      <th>Weekday_order</th>\n",
       "      <th>Month</th>\n",
       "      <th>preds</th>\n",
       "    </tr>\n",
       "    <tr>\n",
       "      <th>Date</th>\n",
       "      <th></th>\n",
       "      <th></th>\n",
       "      <th></th>\n",
       "      <th></th>\n",
       "      <th></th>\n",
       "      <th></th>\n",
       "      <th></th>\n",
       "    </tr>\n",
       "  </thead>\n",
       "  <tbody>\n",
       "    <tr>\n",
       "      <th>2022-08-26</th>\n",
       "      <td>26</td>\n",
       "      <td>19</td>\n",
       "      <td>4</td>\n",
       "      <td>4</td>\n",
       "      <td>4</td>\n",
       "      <td>8</td>\n",
       "      <td>0.0</td>\n",
       "    </tr>\n",
       "    <tr>\n",
       "      <th>2022-08-27</th>\n",
       "      <td>27</td>\n",
       "      <td>20</td>\n",
       "      <td>5</td>\n",
       "      <td>4</td>\n",
       "      <td>4</td>\n",
       "      <td>8</td>\n",
       "      <td>0.0</td>\n",
       "    </tr>\n",
       "    <tr>\n",
       "      <th>2022-08-28</th>\n",
       "      <td>28</td>\n",
       "      <td>20</td>\n",
       "      <td>6</td>\n",
       "      <td>4</td>\n",
       "      <td>4</td>\n",
       "      <td>8</td>\n",
       "      <td>0.0</td>\n",
       "    </tr>\n",
       "    <tr>\n",
       "      <th>2022-08-29</th>\n",
       "      <td>29</td>\n",
       "      <td>20</td>\n",
       "      <td>0</td>\n",
       "      <td>5</td>\n",
       "      <td>5</td>\n",
       "      <td>8</td>\n",
       "      <td>0.0</td>\n",
       "    </tr>\n",
       "    <tr>\n",
       "      <th>2022-08-30</th>\n",
       "      <td>30</td>\n",
       "      <td>21</td>\n",
       "      <td>1</td>\n",
       "      <td>5</td>\n",
       "      <td>5</td>\n",
       "      <td>8</td>\n",
       "      <td>0.0</td>\n",
       "    </tr>\n",
       "    <tr>\n",
       "      <th>...</th>\n",
       "      <td>...</td>\n",
       "      <td>...</td>\n",
       "      <td>...</td>\n",
       "      <td>...</td>\n",
       "      <td>...</td>\n",
       "      <td>...</td>\n",
       "      <td>...</td>\n",
       "    </tr>\n",
       "    <tr>\n",
       "      <th>2023-08-22</th>\n",
       "      <td>22</td>\n",
       "      <td>15</td>\n",
       "      <td>1</td>\n",
       "      <td>4</td>\n",
       "      <td>4</td>\n",
       "      <td>8</td>\n",
       "      <td>0.0</td>\n",
       "    </tr>\n",
       "    <tr>\n",
       "      <th>2023-08-23</th>\n",
       "      <td>23</td>\n",
       "      <td>16</td>\n",
       "      <td>2</td>\n",
       "      <td>4</td>\n",
       "      <td>4</td>\n",
       "      <td>8</td>\n",
       "      <td>0.0</td>\n",
       "    </tr>\n",
       "    <tr>\n",
       "      <th>2023-08-24</th>\n",
       "      <td>24</td>\n",
       "      <td>17</td>\n",
       "      <td>3</td>\n",
       "      <td>4</td>\n",
       "      <td>4</td>\n",
       "      <td>8</td>\n",
       "      <td>0.0</td>\n",
       "    </tr>\n",
       "    <tr>\n",
       "      <th>2023-08-25</th>\n",
       "      <td>25</td>\n",
       "      <td>18</td>\n",
       "      <td>4</td>\n",
       "      <td>4</td>\n",
       "      <td>4</td>\n",
       "      <td>8</td>\n",
       "      <td>0.0</td>\n",
       "    </tr>\n",
       "    <tr>\n",
       "      <th>2023-08-26</th>\n",
       "      <td>26</td>\n",
       "      <td>19</td>\n",
       "      <td>5</td>\n",
       "      <td>4</td>\n",
       "      <td>4</td>\n",
       "      <td>8</td>\n",
       "      <td>0.0</td>\n",
       "    </tr>\n",
       "  </tbody>\n",
       "</table>\n",
       "<p>366 rows × 7 columns</p>\n",
       "</div>"
      ],
      "text/plain": [
       "            Day  Workday_N  Week_day  Week_of_month  Weekday_order  Month  \\\n",
       "Date                                                                        \n",
       "2022-08-26   26         19         4              4              4      8   \n",
       "2022-08-27   27         20         5              4              4      8   \n",
       "2022-08-28   28         20         6              4              4      8   \n",
       "2022-08-29   29         20         0              5              5      8   \n",
       "2022-08-30   30         21         1              5              5      8   \n",
       "...         ...        ...       ...            ...            ...    ...   \n",
       "2023-08-22   22         15         1              4              4      8   \n",
       "2023-08-23   23         16         2              4              4      8   \n",
       "2023-08-24   24         17         3              4              4      8   \n",
       "2023-08-25   25         18         4              4              4      8   \n",
       "2023-08-26   26         19         5              4              4      8   \n",
       "\n",
       "            preds  \n",
       "Date               \n",
       "2022-08-26    0.0  \n",
       "2022-08-27    0.0  \n",
       "2022-08-28    0.0  \n",
       "2022-08-29    0.0  \n",
       "2022-08-30    0.0  \n",
       "...           ...  \n",
       "2023-08-22    0.0  \n",
       "2023-08-23    0.0  \n",
       "2023-08-24    0.0  \n",
       "2023-08-25    0.0  \n",
       "2023-08-26    0.0  \n",
       "\n",
       "[366 rows x 7 columns]"
      ]
     },
     "metadata": {},
     "output_type": "display_data"
    }
   ],
   "source": [
    "rf_predict['preds'] = prediction\n",
    "display(rf_predict)"
   ]
  },
  {
   "cell_type": "code",
   "execution_count": 25,
   "id": "505e833e",
   "metadata": {
    "execution": {
     "iopub.execute_input": "2022-08-26T11:31:21.335176Z",
     "iopub.status.busy": "2022-08-26T11:31:21.334683Z",
     "iopub.status.idle": "2022-08-26T11:31:21.345568Z",
     "shell.execute_reply": "2022-08-26T11:31:21.344243Z"
    },
    "papermill": {
     "duration": 0.023053,
     "end_time": "2022-08-26T11:31:21.347870",
     "exception": false,
     "start_time": "2022-08-26T11:31:21.324817",
     "status": "completed"
    },
    "tags": []
   },
   "outputs": [],
   "source": [
    "rf_predict.to_csv('rf-preds', sep='\\t')"
   ]
  }
 ],
 "metadata": {
  "kernelspec": {
   "display_name": "Python 3",
   "language": "python",
   "name": "python3"
  },
  "language_info": {
   "codemirror_mode": {
    "name": "ipython",
    "version": 3
   },
   "file_extension": ".py",
   "mimetype": "text/x-python",
   "name": "python",
   "nbconvert_exporter": "python",
   "pygments_lexer": "ipython3",
   "version": "3.7.12"
  },
  "papermill": {
   "default_parameters": {},
   "duration": 93.094872,
   "end_time": "2022-08-26T11:31:22.382525",
   "environment_variables": {},
   "exception": null,
   "input_path": "__notebook__.ipynb",
   "output_path": "__notebook__.ipynb",
   "parameters": {},
   "start_time": "2022-08-26T11:29:49.287653",
   "version": "2.3.4"
  }
 },
 "nbformat": 4,
 "nbformat_minor": 5
}

{
  "nbformat": 4,
  "nbformat_minor": 0,
  "metadata": {
    "colab": {
      "name": "Untitled10.ipynb",
      "provenance": []
    },
    "kernelspec": {
      "name": "python3",
      "display_name": "Python 3"
    },
    "language_info": {
      "name": "python"
    }
  },
  "cells": [
    {
      "cell_type": "code",
      "execution_count": 3,
      "metadata": {
        "colab": {
          "base_uri": "https://localhost:8080/"
        },
        "id": "mNynfc186xsH",
        "outputId": "d736cfd5-43ee-498f-cd20-6ae0c2d95101"
      },
      "outputs": [
        {
          "output_type": "stream",
          "name": "stdout",
          "text": [
            "hello, Welcome to Password generator!\n",
            "\n",
            "Enter the length of password: 9\n",
            "IY3mM(pC|\n"
          ]
        }
      ],
      "source": [
        "import random\n",
        "import string\n",
        "\n",
        "print('hello, Welcome to Password generator!')\n",
        "length = int(input('\\nEnter the length of password: '))\n",
        "\n",
        "lower = string.ascii_lowercase\n",
        "upper = string.ascii_uppercase\n",
        "num = string.digits\n",
        "symbols = string.punctuation\n",
        "\n",
        "all = lower + upper + num + symbols\n",
        "\n",
        "temp = random.sample(all,length)\n",
        "password = \"\".join(temp)\n",
        "\n",
        "all = string.ascii_letters + string.digits + string.punctuation\n",
        "password = \"\".join(random.sample(all,length))\n",
        "\n",
        "print(password)"
      ]
    }
  ]
}